{
 "cells": [
  {
   "cell_type": "code",
   "execution_count": 5,
   "metadata": {},
   "outputs": [],
   "source": [
    "import numpy as np\n",
    "import cv2\n",
    "import matplotlib.pyplot as plt\n",
    "############\n",
    "# Insert your code here to create/fetch your segmentation image\n",
    "# My code was set up in Blender to output a segmentation png like this:\n",
    "# seg_path = output_path / 'Segmentation_1.png'\n",
    "############\n",
    "\n",
    "# Read in the image with OpenCV\n",
    "im = cv2.imread('C:/Users/emili/OneDrive/Documentos/GitHub/MedSAM/seg_result2.png')\n",
    "#reshape to 128 x 128\n",
    "im = cv2.resize(im, (128, 128))\n",
    "#convert to hsv\n",
    "hsv = cv2.cvtColor(im, cv2.COLOR_BGR2HSV)\n",
    "im=hsv[:,:,0]\n",
    "#convert all diferent than 0 to 1\n",
    "im[im!=0]=1\n",
    "# Segmentation color value (in Blender this is likely your pass index)\n",
    "seg_value = 1\n",
    "\n",
    "if im is not None:\n",
    "    np_seg = np.array(im)\n",
    "    segmentation = np.where(np_seg == seg_value)\n",
    "\n",
    "    # Bounding Box\n",
    "    bbox = 0, 0, 0, 0\n",
    "    if len(segmentation) != 0 and len(segmentation[1]) != 0 and len(segmentation[0]) != 0:\n",
    "        x_min = int(np.min(segmentation[1]))\n",
    "        x_max = int(np.max(segmentation[1]))\n",
    "        y_min = int(np.min(segmentation[0]))\n",
    "        y_max = int(np.max(segmentation[0]))\n",
    "\n",
    "        bbox = x_min, y_min, x_max, y_max\n",
    "\n",
    "        #########\n",
    "        # Do what you need to do with the bbox, for example add it to your annotation file\n",
    "        #########\n",
    "else:\n",
    "    # Handle error case where segmentation image cannot be read or is empty\n",
    "    print(\"Error: Segmentation image could not be read or is empty.\")"
   ]
  },
  {
   "cell_type": "code",
   "execution_count": 6,
   "metadata": {},
   "outputs": [
    {
     "name": "stdout",
     "output_type": "stream",
     "text": [
      "(128, 128)\n"
     ]
    },
    {
     "data": {
      "text/plain": [
       "<matplotlib.image.AxesImage at 0x2a2da9dbcd0>"
      ]
     },
     "execution_count": 6,
     "metadata": {},
     "output_type": "execute_result"
    },
    {
     "data": {
      "image/png": "[encoded data removed]",
      "text/plain": [
       "<Figure size 640x480 with 1 Axes>"
      ]
     },
     "metadata": {},
     "output_type": "display_data"
    }
   ],
   "source": [
    "print(im.shape)\n",
    "plt.imshow(im)"
   ]
  },
  {
   "cell_type": "code",
   "execution_count": 7,
   "metadata": {},
   "outputs": [
    {
     "name": "stdout",
     "output_type": "stream",
     "text": [
      "(36, 87, 24, 83)\n"
     ]
    }
   ],
   "source": [
    "print(bbox)"
   ]
  }
 ],
 "metadata": {
  "kernelspec": {
   "display_name": "medsam",
   "language": "python",
   "name": "python3"
  },
  "language_info": {
   "codemirror_mode": {
    "name": "ipython",
    "version": 3
   },
   "file_extension": ".py",
   "mimetype": "text/x-python",
   "name": "python",
   "nbconvert_exporter": "python",
   "pygments_lexer": "ipython3",
   "version": "3.11.5"
  },
  "orig_nbformat": 4
 },
 "nbformat": 4,
 "nbformat_minor": 2
}
